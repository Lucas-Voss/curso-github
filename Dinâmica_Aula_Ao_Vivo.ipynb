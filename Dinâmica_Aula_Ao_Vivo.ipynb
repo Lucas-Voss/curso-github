{
  "nbformat": 4,
  "nbformat_minor": 0,
  "metadata": {
    "colab": {
      "provenance": [],
      "collapsed_sections": [],
      "authorship_tag": "ABX9TyO4LlAygN8eb+qxPhWXpTAD",
      "include_colab_link": true
    },
    "kernelspec": {
      "name": "python3",
      "display_name": "Python 3"
    },
    "language_info": {
      "name": "python"
    }
  },
  "cells": [
    {
      "cell_type": "markdown",
      "metadata": {
        "id": "view-in-github",
        "colab_type": "text"
      },
      "source": [
        "<a href=\"https://colab.research.google.com/github/Lucas-Voss/curso-github/blob/main/Din%C3%A2mica_Aula_Ao_Vivo.ipynb\" target=\"_parent\"><img src=\"https://colab.research.google.com/assets/colab-badge.svg\" alt=\"Open In Colab\"/></a>"
      ]
    },
    {
      "cell_type": "code",
      "execution_count": null,
      "metadata": {
        "id": "4JUjbE2le737"
      },
      "outputs": [],
      "source": [
        "# Lucas Voss, RID 73841\n",
        "\n"
      ]
    },
    {
      "cell_type": "code",
      "source": [
        "# Questão 1\n",
        "x = 5\n",
        "print(type(x))\n",
        "x = 5.0\n",
        "print(type(x))\n",
        "x = 5.5\n",
        "print(type(x))\n",
        "x = 'DNC'\n",
        "print(type(x))\n",
        "x = 1/2\n",
        "print(type(x))\n",
        "x = 0.5*2\n",
        "print(type(x))\n",
        "x = 2**4\n",
        "print(type(x))\n",
        "x = 2+4\n",
        "print(type(x))\n",
        "x = 1000000000\n",
        "print(type(x))\n",
        "\n",
        "x = int(input('Digite um número inteiro: '))\n",
        "print(type(x))\n",
        "x = float(input('Digite um número: '))\n",
        "print(type(x))\n",
        "x = str(input('Digite um texto: '))\n",
        "print(type(x))\n",
        "x = input('Digite qualquer dado: ')\n",
        "print(type(x))\n"
      ],
      "metadata": {
        "colab": {
          "base_uri": "https://localhost:8080/"
        },
        "id": "k8QLBKbdfyWx",
        "outputId": "859c6732-9869-4e65-c3fe-be125a53dbd2"
      },
      "execution_count": null,
      "outputs": [
        {
          "output_type": "stream",
          "name": "stdout",
          "text": [
            "<class 'int'>\n",
            "<class 'float'>\n",
            "<class 'float'>\n",
            "<class 'str'>\n",
            "<class 'float'>\n",
            "<class 'float'>\n",
            "<class 'int'>\n",
            "<class 'int'>\n",
            "<class 'int'>\n",
            "Digite um número inteiro: 13\n",
            "<class 'int'>\n",
            "Digite um número: 13.3\n",
            "<class 'float'>\n",
            "Digite um texto: treze\n",
            "<class 'str'>\n",
            "Digite qualquer dado: 33 dados\n",
            "<class 'str'>\n"
          ]
        }
      ]
    },
    {
      "cell_type": "code",
      "source": [
        "# Questão 2\n",
        "frase = 'DS06 - DNC'\n",
        "print('-'*50+'\\n'+'-'*50)\n",
        "print(' '*int(49/2-len(frase)/2), frase)\n",
        "print('-'*50+'\\n'+'-'*50)"
      ],
      "metadata": {
        "colab": {
          "base_uri": "https://localhost:8080/"
        },
        "id": "IKOcOOaof8Z_",
        "outputId": "3ab25f7b-5845-4865-c2fc-185746fca970"
      },
      "execution_count": null,
      "outputs": [
        {
          "output_type": "stream",
          "name": "stdout",
          "text": [
            "--------------------------------------------------\n",
            "--------------------------------------------------\n",
            "                    DS06 - DNC\n",
            "--------------------------------------------------\n",
            "--------------------------------------------------\n"
          ]
        }
      ]
    },
    {
      "cell_type": "code",
      "source": [
        "# Questão 3\n",
        "salario_cientista_de_dados = 10000.00\n",
        "parcela_bmw = 2500.45\n",
        "parcela_apartamento = 3500.50\n",
        "veterinario_romeuzinho = 500.00\n",
        "luz = 100.80\n",
        "agua = 80.35\n",
        "condominio = 800.44\n",
        "gas = 150.65\n",
        "poupanca = 0\n",
        "\n",
        "poupanca = salario_cientista_de_dados - parcela_bmw - parcela_apartamento - veterinario_romeuzinho - luz - agua - condominio - gas\n",
        "print(\"*\"*100)\n",
        "print('Seu salário de cientista de dados jr é deR$ {:.1f} e seus gastos estão dispostos a seguir'.format(salario_cientista_de_dados))\n",
        "print('Parcela da BMW = ', parcela_bmw)\n",
        "print('Parcela da apartametno = ', parcela_apartamento)\n",
        "print('veterinario do Romeuzinho = ', int(veterinario_romeuzinho))\n",
        "print('Conta de luz = ', luz)\n",
        "print('Conta de água ', agua)\n",
        "print('Conta de condomínio = ', condominio)\n",
        "print('Conta de gás = ', gas)\n",
        "print(\"*\"*100)\n",
        "print('O valor disponível para colocar na poupança é de: R$',poupanca)"
      ],
      "metadata": {
        "colab": {
          "base_uri": "https://localhost:8080/"
        },
        "id": "IA6I7AN-gKJY",
        "outputId": "222a706d-e23e-40fe-af2f-ed7494225ced"
      },
      "execution_count": null,
      "outputs": [
        {
          "output_type": "stream",
          "name": "stdout",
          "text": [
            "****************************************************************************************************\n",
            "Seu salário de cientista de dados jr é deR$ 10000.0 e seus gastos estão dispostos a seguir\n",
            "Parcela da BMW =  2500.45\n",
            "Parcela da apartametno =  3500.5\n",
            "veterinario do Romeuzinho =  500\n",
            "Conta de luz =  100.8\n",
            "Conta de água  80.35\n",
            "Conta de condomínio =  800.44\n",
            "Conta de gás =  150.65\n",
            "****************************************************************************************************\n",
            "O valor disponível para colocar na poupança é de: R$ 2366.81\n"
          ]
        }
      ]
    },
    {
      "cell_type": "code",
      "source": [
        "# Questão 4\n",
        "# 1.Formação_em_dados = 20000.00\n",
        "# 2.Formação_em_projetos = 15000.00\n",
        "# 3.Formação_em_marketing = 13000.00\n",
        "# 4.Formação_em_produto = 18000.00\n",
        "# 5.Formação_em_tecnologia = 19000.00\n",
        "\n",
        "formacao = ['Dados', 20000.00, 'Projeto', 15000.00, 'Marketing', 13000.00, 'Produto', 18000.00, 'Tecnologia', 19000.00]\n",
        "\n",
        "f = 0\n",
        "while True:\n",
        "  f = int(input('Qual curso você quer escolher (1=Formação_em_dados, 2=Formação_em_projetos, \\n3=Formação_em_marketing, 4=Formação_em_produto, 5=Formação_em_tecnologia)?'))\n",
        "  if f >= 1 and f <= 5:\n",
        "    break\n",
        "  print('Digite um valor correspondente a um curso de nossas formações \\n1=Formação em dados, \\n2=Formação em projetos, \\n3=Formação em marketing, \\n4=Formação em produto, \\n5=Formação em tecnologia')\n",
        "for i, v in enumerate(formacao):\n",
        "  if i+1 >= f*2:\n",
        "    print(f'Você escolheu o curso Formação em {formacao[i-1]} no valor de R$ {formacao[i]:.2f} que começará no próximo mês')\n",
        "    break\n"
      ],
      "metadata": {
        "colab": {
          "base_uri": "https://localhost:8080/"
        },
        "id": "NUarMxNHgQ13",
        "outputId": "740a3ffc-5adf-4786-ceba-9ae211d72272"
      },
      "execution_count": null,
      "outputs": [
        {
          "output_type": "stream",
          "name": "stdout",
          "text": [
            "Qual curso você quer escolher (1=Formação_em_dados, 2=Formação_em_projetos, \n",
            "3=Formação_em_marketing, 4=Formação_em_produto, 5=Formação_em_tecnologia)?12\n",
            "Digite um valor correspondente a um curso de nossas formações \n",
            "1=Formação em dados, \n",
            "2=Formação em projetos, \n",
            "3=Formação em marketing, \n",
            "4=Formação em produto, \n",
            "5=Formação em tecnologia\n",
            "Qual curso você quer escolher (1=Formação_em_dados, 2=Formação_em_projetos, \n",
            "3=Formação_em_marketing, 4=Formação_em_produto, 5=Formação_em_tecnologia)?1\n",
            "Você escolheu o curso Formação em Dados no valor de R$ 20000.00 que começará no próximo mês\n"
          ]
        }
      ]
    },
    {
      "cell_type": "code",
      "source": [
        "# Questão 5\n",
        "formacaoPreco = ['Dados', 20000.00, 'Projeto', 15000.00, 'Marketing', 13000.00, 'Produto', 18000.00, 'Tecnologia', 19000.00]\n",
        "qtdeCursos = ['Dados', 10, 'Projeto', 2, 'Marketing', 10, 'Produto', 6, 'Tecnologia', 5]\n",
        "totalCursos = []\n",
        "curso = 0\n",
        "i = 0\n",
        "receita = 0\n",
        "qtdeTotal = 0\n",
        "receitaMedia = 0\n",
        "\n",
        "for p, q in zip(formacaoPreco, qtdeCursos):\n",
        "  if i%2 == 0:\n",
        "    curso = p\n",
        "    i += 1\n",
        "  else:\n",
        "    curso = p * q\n",
        "    qtdeTotal += q\n",
        "    i += 1\n",
        "    print(f'Foram vendidos {q} cursos de {qtdeCursos[i-2]}')\n",
        "  totalCursos.append(curso)\n",
        "\n",
        "\n",
        "\n",
        "for i in range(1,len(totalCursos)+1,2):\n",
        "  receita += totalCursos[i]\n",
        "\n",
        "\n",
        "print(f'Totalizando R$ {receita:.2f} em vedas')\n",
        "print(f'E a média de receita por curso foi de R$ {receita/5:.2f}')\n",
        "if receita >= 2000000:\n",
        "  print('Parabéns!!! A DNC bateu a meta do mês')\n",
        "else:\n",
        "  print(\"Esse mês não batemos a meta, porém mês que vem vamos vir mais fortes pra recuparar!!!\")\n"
      ],
      "metadata": {
        "colab": {
          "base_uri": "https://localhost:8080/"
        },
        "id": "mh8244mFgmW4",
        "outputId": "6d11b320-c892-44c3-da7e-43d4ad036b23"
      },
      "execution_count": null,
      "outputs": [
        {
          "output_type": "stream",
          "name": "stdout",
          "text": [
            "Foram vendidos 10 cursos de Dados\n",
            "Foram vendidos 2 cursos de Projeto\n",
            "Foram vendidos 10 cursos de Marketing\n",
            "Foram vendidos 6 cursos de Produto\n",
            "Foram vendidos 5 cursos de Tecnologia\n",
            "Totalizando R$ 563000.00 em vedas\n",
            "E a média de receita por curso foi de R$ 112600.00\n",
            "Esse mês não batemos a meta, porém mês que vem vamos vir mais fortes pra recuparar!!!\n"
          ]
        }
      ]
    },
    {
      "cell_type": "code",
      "source": [
        "# Questão 6\n",
        "parar = int(input('Digite o número de onde ele deve parar: '))\n",
        "soma = 0\n",
        "for i in range(1,parar+1):\n",
        "  soma += i\n",
        "\n",
        "print(soma)"
      ],
      "metadata": {
        "colab": {
          "base_uri": "https://localhost:8080/"
        },
        "id": "1WOkad9wgqIH",
        "outputId": "0c59fc47-d6f5-493e-a1b0-242b3154c429"
      },
      "execution_count": null,
      "outputs": [
        {
          "output_type": "stream",
          "name": "stdout",
          "text": [
            "Digite o número de onde ele deve parar: 3\n",
            "6\n"
          ]
        }
      ]
    },
    {
      "cell_type": "code",
      "source": [
        "# Questão 7\n",
        "\n",
        "proxima = 'p'\n",
        "while proxima == 'p':\n",
        "  proxima = input('De um comando: ')\n",
        "  if proxima == 'p':\n",
        "    print('Próxima música')\n",
        "  \n",
        "print('Fechando o app')\n",
        "print('Até a próxima')"
      ],
      "metadata": {
        "colab": {
          "base_uri": "https://localhost:8080/"
        },
        "id": "8IjzRETlg5hg",
        "outputId": "a5595076-3eaa-4d8b-bee3-c8ddb39c1cc0"
      },
      "execution_count": null,
      "outputs": [
        {
          "output_type": "stream",
          "name": "stdout",
          "text": [
            "De um comando: p\n",
            "Próxima música\n",
            "De um comando: p\n",
            "Próxima música\n",
            "De um comando: 1\n",
            "Fechando o app\n",
            "Até a próxima\n"
          ]
        }
      ]
    },
    {
      "cell_type": "code",
      "source": [
        "from random import normalvariate\n",
        "# Questão 8\n",
        "nomes = 0\n",
        "nome = 0\n",
        "for i in range (0,3):\n",
        "  nome = input(f'Digite o {i+1}º nome: ')\n",
        "  print(f'Parabéns por toda sua ajuda no projeto, você está sendo essencial para o resultado que estamos atingindo, {nome}')"
      ],
      "metadata": {
        "colab": {
          "base_uri": "https://localhost:8080/"
        },
        "id": "3i2UDjkgg5vL",
        "outputId": "699357e2-8131-4f6b-fa67-9422cd87bbf8"
      },
      "execution_count": null,
      "outputs": [
        {
          "output_type": "stream",
          "name": "stdout",
          "text": [
            "Digite o 1º nome: Lucas\n",
            "Parabéns por toda sua ajuda no projeto, você está sendo essencial para o resultado que estamos atingindo, Lucas\n",
            "Digite o 2º nome: Daniele\n",
            "Parabéns por toda sua ajuda no projeto, você está sendo essencial para o resultado que estamos atingindo, Daniele\n",
            "Digite o 3º nome: Luan\n",
            "Parabéns por toda sua ajuda no projeto, você está sendo essencial para o resultado que estamos atingindo, Luan\n"
          ]
        }
      ]
    },
    {
      "cell_type": "code",
      "source": [
        "# Questão 9\n"
      ],
      "metadata": {
        "id": "YPEXf_HEg9z2"
      },
      "execution_count": null,
      "outputs": []
    },
    {
      "cell_type": "code",
      "source": [
        "# Questão 10"
      ],
      "metadata": {
        "id": "6xKjcZSlg93k"
      },
      "execution_count": null,
      "outputs": []
    },
    {
      "cell_type": "code",
      "source": [
        "# Questão 11"
      ],
      "metadata": {
        "id": "9JuZ1NCaiJz7"
      },
      "execution_count": null,
      "outputs": []
    }
  ]
}